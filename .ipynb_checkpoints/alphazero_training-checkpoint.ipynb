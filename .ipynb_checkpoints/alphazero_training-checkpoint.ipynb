{
 "cells": [
  {
   "cell_type": "code",
   "execution_count": 1,
   "id": "jfTPpJsvdjZx",
   "metadata": {
    "colab": {
     "base_uri": "https://localhost:8080/"
    },
    "executionInfo": {
     "elapsed": 615,
     "status": "ok",
     "timestamp": 1733701384829,
     "user": {
      "displayName": "Siyi Wu",
      "userId": "06196688456534608936"
     },
     "user_tz": 360
    },
    "id": "jfTPpJsvdjZx",
    "outputId": "5b384f92-0fc8-4c1d-eae9-0eaa4b2d5896"
   },
   "outputs": [
    {
     "name": "stdout",
     "output_type": "stream",
     "text": [
      "Drive already mounted at /content/drive; to attempt to forcibly remount, call drive.mount(\"/content/drive\", force_remount=True).\n"
     ]
    }
   ],
   "source": [
    "from google.colab import drive\n",
    "drive.mount('/content/drive')"
   ]
  },
  {
   "cell_type": "code",
   "execution_count": 1,
   "id": "96P8EsRKeGJT",
   "metadata": {
    "colab": {
     "base_uri": "https://localhost:8080/"
    },
    "executionInfo": {
     "elapsed": 101,
     "status": "ok",
     "timestamp": 1733701385266,
     "user": {
      "displayName": "Siyi Wu",
      "userId": "06196688456534608936"
     },
     "user_tz": 360
    },
    "id": "96P8EsRKeGJT",
    "outputId": "2aa9f03e-cec8-4dab-e260-ecea06b460a3"
   },
   "outputs": [
    {
     "ename": "FileNotFoundError",
     "evalue": "[Errno 2] No such file or directory: '/content/drive/MyDrive/code/WZ'",
     "output_type": "error",
     "traceback": [
      "\u001b[0;31m---------------------------------------------------------------------------\u001b[0m",
      "\u001b[0;31mFileNotFoundError\u001b[0m                         Traceback (most recent call last)",
      "Input \u001b[0;32mIn [1]\u001b[0m, in \u001b[0;36m<cell line: 3>\u001b[0;34m()\u001b[0m\n\u001b[1;32m      1\u001b[0m \u001b[38;5;28;01mimport\u001b[39;00m \u001b[38;5;21;01mos\u001b[39;00m\n\u001b[1;32m      2\u001b[0m path \u001b[38;5;241m=\u001b[39m \u001b[38;5;124m\"\u001b[39m\u001b[38;5;124m/content/drive/MyDrive/code/WZ\u001b[39m\u001b[38;5;124m\"\u001b[39m\n\u001b[0;32m----> 3\u001b[0m \u001b[43mos\u001b[49m\u001b[38;5;241;43m.\u001b[39;49m\u001b[43mchdir\u001b[49m\u001b[43m(\u001b[49m\u001b[43mpath\u001b[49m\u001b[43m)\u001b[49m\n\u001b[1;32m      4\u001b[0m \u001b[38;5;28mprint\u001b[39m(os\u001b[38;5;241m.\u001b[39mgetcwd())\n",
      "\u001b[0;31mFileNotFoundError\u001b[0m: [Errno 2] No such file or directory: '/content/drive/MyDrive/code/WZ'"
     ]
    }
   ],
   "source": [
    "import os\n",
    "path = \"/content/drive/MyDrive/code/WZ\"\n",
    "os.chdir(path)\n",
    "print(os.getcwd())"
   ]
  },
  {
   "cell_type": "code",
   "execution_count": 2,
   "id": "5397fffc",
   "metadata": {
    "executionInfo": {
     "elapsed": 9677,
     "status": "ok",
     "timestamp": 1733701395668,
     "user": {
      "displayName": "Siyi Wu",
      "userId": "06196688456534608936"
     },
     "user_tz": 360
    },
    "id": "5397fffc"
   },
   "outputs": [],
   "source": [
    "import importlib\n",
    "import os\n",
    "import numpy as np\n",
    "import torch\n",
    "import torch.nn as nn\n",
    "import torch.optim as optim\n",
    "import random\n",
    "\n",
    "from collections import deque\n",
    "\n",
    "\n",
    "sizef = 8"
   ]
  },
  {
   "cell_type": "code",
   "execution_count": 19,
   "id": "9a318702",
   "metadata": {
    "id": "9a318702"
   },
   "outputs": [],
   "source": [
    "class Gomoku:\n",
    "    def __init__(self, size=sizef, black_strategy=None, white_strategy=None):\n",
    "        self.size = size  # 棋盘大小\n",
    "        self.board = [['.' for _ in range(size)] for _ in range(size)]  # 初始化棋盘\n",
    "        self.current_player = 'X'  # 当前玩家 ('X' or 'O')\n",
    "        self.black_strategy = black_strategy  # 黑棋策略函数\n",
    "        self.white_strategy = white_strategy  # 白棋策略函数\n",
    "\n",
    "    def display_board(self):\n",
    "        \"\"\"打印棋盘\"\"\"\n",
    "        print(\"   \" + \" \".join(f\"{i:2}\" for i in range(self.size)))\n",
    "        for i, row in enumerate(self.board):\n",
    "            print(f\"{i:2} \" + \" \".join(row))\n",
    "\n",
    "    def is_valid_move(self, x, y):\n",
    "        \"\"\"检查落子是否合法\"\"\"\n",
    "        return 0 <= x < self.size and 0 <= y < self.size and self.board[x][y] == '.'\n",
    "\n",
    "    def make_move(self, x, y):\n",
    "        \"\"\"下棋\"\"\"\n",
    "        if self.is_valid_move(x, y):\n",
    "            self.board[x][y] = self.current_player\n",
    "            return True\n",
    "        else:\n",
    "            print(f\"Invalid move by player {self.current_player} at ({x}, {y}).\")\n",
    "            return False\n",
    "\n",
    "    def check_winner(self, x, y):\n",
    "        \"\"\"检查当前玩家是否获胜\"\"\"\n",
    "        directions = [(1, 0), (0, 1), (1, 1), (1, -1)]  # 四个方向：水平、垂直、正斜线、反斜线\n",
    "        for dx, dy in directions:\n",
    "            count = 1\n",
    "            # 检查正方向\n",
    "            for step in range(1, 5):\n",
    "                nx, ny = x + step * dx, y + step * dy\n",
    "                if 0 <= nx < self.size and 0 <= ny < self.size and self.board[nx][ny] == self.current_player:\n",
    "                    count += 1\n",
    "                else:\n",
    "                    break\n",
    "            # 检查反方向\n",
    "            for step in range(1, 5):\n",
    "                nx, ny = x - step * dx, y - step * dy\n",
    "                if 0 <= nx < self.size and 0 <= ny < self.size and self.board[nx][ny] == self.current_player:\n",
    "                    count += 1\n",
    "                else:\n",
    "                    break\n",
    "            if count >= 5:  # 连续五子\n",
    "                return True\n",
    "        return False\n",
    "\n",
    "    def switch_player(self):\n",
    "        \"\"\"切换玩家\"\"\"\n",
    "        self.current_player = 'O' if self.current_player == 'X' else 'X'\n",
    "\n",
    "    def play(self):\n",
    "        \"\"\"游戏主循环\"\"\"\n",
    "        print(\"Starting Gomoku!\")\n",
    "        self.display_board()\n",
    "\n",
    "        # 检查是否有 GPU 可用\n",
    "        device = torch.device('cuda' if torch.cuda.is_available() else 'cpu')\n",
    "        print(f\"Running on device: {device}\")\n",
    "\n",
    "        while True:\n",
    "            if self.current_player == 'X':\n",
    "                if self.black_strategy:\n",
    "                    # 将策略函数运行在指定设备上\n",
    "                    move = self.black_strategy(self.board, 'X', device=device)\n",
    "                else:\n",
    "                    move = self.get_human_move()\n",
    "            else:\n",
    "                if self.white_strategy:\n",
    "                    # 将策略函数运行在指定设备上\n",
    "                    move = self.white_strategy(self.board, 'O', device=device)\n",
    "                else:\n",
    "                    move = self.get_human_move()\n",
    "\n",
    "            if not move or len(move) != 2:\n",
    "                print(f\"Invalid move returned by player {self.current_player}.\")\n",
    "                break\n",
    "\n",
    "            x, y = move\n",
    "            if self.make_move(x, y):\n",
    "                print(f\"Player {self.current_player} places at ({x}, {y})\")\n",
    "                self.display_board()\n",
    "                if self.check_winner(x, y):\n",
    "                    print(f\"Player {self.current_player} wins!\")\n",
    "                    break\n",
    "                self.switch_player()\n",
    "            else:\n",
    "                print(\"Game Over due to invalid move.\")\n",
    "                break\n",
    "\n",
    "        print(\"Game Over!\")\n",
    "\n",
    "    def get_human_move(self):\n",
    "        \"\"\"获取玩家的落子\"\"\"\n",
    "        while True:\n",
    "            try:\n",
    "                move = input(f\"Player {self.current_player}, enter your move (row col): \").strip()\n",
    "                x, y = map(int, move.split())\n",
    "                if self.is_valid_move(x, y):\n",
    "                    return x, y\n",
    "                else:\n",
    "                    print(\"Invalid move. Try again.\")\n",
    "            except ValueError:\n",
    "                print(\"Invalid input. Please enter row and column numbers separated by a space.\")\n",
    "\n",
    "\n",
    "def load_strategy(file_name):\n",
    "    \"\"\"从本地文件加载策略\"\"\"\n",
    "    if not os.path.exists(file_name):\n",
    "        raise FileNotFoundError(f\"Strategy file {file_name} not found.\")\n",
    "\n",
    "    module_name = os.path.splitext(os.path.basename(file_name))[0]\n",
    "    spec = importlib.util.spec_from_file_location(module_name, file_name)\n",
    "    module = importlib.util.module_from_spec(spec)\n",
    "    spec.loader.exec_module(module)\n",
    "    return module.play  # 假设策略文件中定义了一个 play 函数\n",
    "\n",
    "\n",
    "\n",
    "def print_strategy_files(directory):\n",
    "    try:\n",
    "        for root, dirs, files in os.walk(directory):\n",
    "            for file in files:\n",
    "                if file.endswith(\"strategy.py\"):\n",
    "                    print(file)\n",
    "    except Exception as e:\n",
    "        print(f\"Invaid: {e}\")"
   ]
  },
  {
   "cell_type": "code",
   "execution_count": 18,
   "id": "4162ef3b",
   "metadata": {},
   "outputs": [
    {
     "name": "stdout",
     "output_type": "stream",
     "text": [
      "Choose your strategies!\n",
      "alpha0v2_strategy.py\n"
     ]
    },
    {
     "ename": "KeyboardInterrupt",
     "evalue": "Interrupted by user",
     "output_type": "error",
     "traceback": [
      "\u001b[0;31m---------------------------------------------------------------------------\u001b[0m",
      "\u001b[0;31mKeyboardInterrupt\u001b[0m                         Traceback (most recent call last)",
      "Input \u001b[0;32mIn [18]\u001b[0m, in \u001b[0;36m<cell line: 132>\u001b[0;34m()\u001b[0m\n\u001b[1;32m    135\u001b[0m directory \u001b[38;5;241m=\u001b[39m os\u001b[38;5;241m.\u001b[39mgetcwd()\n\u001b[1;32m    136\u001b[0m print_strategy_files(directory)\n\u001b[0;32m--> 137\u001b[0m black_file \u001b[38;5;241m=\u001b[39m \u001b[38;5;28;43minput\u001b[39;49m\u001b[43m(\u001b[49m\u001b[38;5;124;43m\"\u001b[39;49m\u001b[38;5;124;43mEnter Black\u001b[39;49m\u001b[38;5;124;43m'\u001b[39;49m\u001b[38;5;124;43ms strategy file (e.g., black_strategy.py): \u001b[39;49m\u001b[38;5;124;43m\"\u001b[39;49m\u001b[43m)\u001b[49m\u001b[38;5;241m.\u001b[39mstrip()\n\u001b[1;32m    138\u001b[0m white_file \u001b[38;5;241m=\u001b[39m \u001b[38;5;28minput\u001b[39m(\u001b[38;5;124m\"\u001b[39m\u001b[38;5;124mEnter White\u001b[39m\u001b[38;5;124m'\u001b[39m\u001b[38;5;124ms strategy file (e.g., white_strategy.py): \u001b[39m\u001b[38;5;124m\"\u001b[39m)\u001b[38;5;241m.\u001b[39mstrip()\n\u001b[1;32m    140\u001b[0m black_strategy \u001b[38;5;241m=\u001b[39m load_strategy(black_file)\n",
      "File \u001b[0;32m~/opt/miniconda3/lib/python3.9/site-packages/ipykernel/kernelbase.py:1075\u001b[0m, in \u001b[0;36mKernel.raw_input\u001b[0;34m(self, prompt)\u001b[0m\n\u001b[1;32m   1071\u001b[0m \u001b[38;5;28;01mif\u001b[39;00m \u001b[38;5;129;01mnot\u001b[39;00m \u001b[38;5;28mself\u001b[39m\u001b[38;5;241m.\u001b[39m_allow_stdin:\n\u001b[1;32m   1072\u001b[0m     \u001b[38;5;28;01mraise\u001b[39;00m StdinNotImplementedError(\n\u001b[1;32m   1073\u001b[0m         \u001b[38;5;124m\"\u001b[39m\u001b[38;5;124mraw_input was called, but this frontend does not support input requests.\u001b[39m\u001b[38;5;124m\"\u001b[39m\n\u001b[1;32m   1074\u001b[0m     )\n\u001b[0;32m-> 1075\u001b[0m \u001b[38;5;28;01mreturn\u001b[39;00m \u001b[38;5;28;43mself\u001b[39;49m\u001b[38;5;241;43m.\u001b[39;49m\u001b[43m_input_request\u001b[49m\u001b[43m(\u001b[49m\n\u001b[1;32m   1076\u001b[0m \u001b[43m    \u001b[49m\u001b[38;5;28;43mstr\u001b[39;49m\u001b[43m(\u001b[49m\u001b[43mprompt\u001b[49m\u001b[43m)\u001b[49m\u001b[43m,\u001b[49m\n\u001b[1;32m   1077\u001b[0m \u001b[43m    \u001b[49m\u001b[38;5;28;43mself\u001b[39;49m\u001b[38;5;241;43m.\u001b[39;49m\u001b[43m_parent_ident\u001b[49m\u001b[43m[\u001b[49m\u001b[38;5;124;43m\"\u001b[39;49m\u001b[38;5;124;43mshell\u001b[39;49m\u001b[38;5;124;43m\"\u001b[39;49m\u001b[43m]\u001b[49m\u001b[43m,\u001b[49m\n\u001b[1;32m   1078\u001b[0m \u001b[43m    \u001b[49m\u001b[38;5;28;43mself\u001b[39;49m\u001b[38;5;241;43m.\u001b[39;49m\u001b[43mget_parent\u001b[49m\u001b[43m(\u001b[49m\u001b[38;5;124;43m\"\u001b[39;49m\u001b[38;5;124;43mshell\u001b[39;49m\u001b[38;5;124;43m\"\u001b[39;49m\u001b[43m)\u001b[49m\u001b[43m,\u001b[49m\n\u001b[1;32m   1079\u001b[0m \u001b[43m    \u001b[49m\u001b[43mpassword\u001b[49m\u001b[38;5;241;43m=\u001b[39;49m\u001b[38;5;28;43;01mFalse\u001b[39;49;00m\u001b[43m,\u001b[49m\n\u001b[1;32m   1080\u001b[0m \u001b[43m\u001b[49m\u001b[43m)\u001b[49m\n",
      "File \u001b[0;32m~/opt/miniconda3/lib/python3.9/site-packages/ipykernel/kernelbase.py:1120\u001b[0m, in \u001b[0;36mKernel._input_request\u001b[0;34m(self, prompt, ident, parent, password)\u001b[0m\n\u001b[1;32m   1117\u001b[0m             \u001b[38;5;28;01mbreak\u001b[39;00m\n\u001b[1;32m   1118\u001b[0m \u001b[38;5;28;01mexcept\u001b[39;00m \u001b[38;5;167;01mKeyboardInterrupt\u001b[39;00m:\n\u001b[1;32m   1119\u001b[0m     \u001b[38;5;66;03m# re-raise KeyboardInterrupt, to truncate traceback\u001b[39;00m\n\u001b[0;32m-> 1120\u001b[0m     \u001b[38;5;28;01mraise\u001b[39;00m \u001b[38;5;167;01mKeyboardInterrupt\u001b[39;00m(\u001b[38;5;124m\"\u001b[39m\u001b[38;5;124mInterrupted by user\u001b[39m\u001b[38;5;124m\"\u001b[39m) \u001b[38;5;28;01mfrom\u001b[39;00m \u001b[38;5;28;01mNone\u001b[39;00m\n\u001b[1;32m   1121\u001b[0m \u001b[38;5;28;01mexcept\u001b[39;00m \u001b[38;5;167;01mException\u001b[39;00m:\n\u001b[1;32m   1122\u001b[0m     \u001b[38;5;28mself\u001b[39m\u001b[38;5;241m.\u001b[39mlog\u001b[38;5;241m.\u001b[39mwarning(\u001b[38;5;124m\"\u001b[39m\u001b[38;5;124mInvalid Message:\u001b[39m\u001b[38;5;124m\"\u001b[39m, exc_info\u001b[38;5;241m=\u001b[39m\u001b[38;5;28;01mTrue\u001b[39;00m)\n",
      "\u001b[0;31mKeyboardInterrupt\u001b[0m: Interrupted by user"
     ]
    }
   ],
   "source": []
  },
  {
   "cell_type": "code",
   "execution_count": null,
   "id": "90c801a2",
   "metadata": {
    "id": "90c801a2"
   },
   "outputs": [],
   "source": [
    "print(\"Welcome to Gomoku!\")\n",
    "print(\"Choose game mode:\")\n",
    "print(\"1. Human vs AI\")\n",
    "print(\"2. AI vs AI\")\n",
    "mode = input(\"Enter 1 or 2: \").strip()\n",
    "\n",
    "black_strategy = None\n",
    "white_strategy = None\n",
    "\n",
    "if mode == \"1\":\n",
    "    print(\"You will play as 'X'.\")\n",
    "    print_strategy_files(os.getcwd())\n",
    "    white_strategy_file = input(\"Enter the AI strategy file for 'O' (e.g., white_strategy.py): \").strip()\n",
    "    white_strategy = load_strategy(white_strategy_file)\n",
    "elif mode == \"2\":\n",
    "    print_strategy_files(os.getcwd())\n",
    "    black_strategy_file = input(\"Enter the AI strategy file for 'X' (e.g., black_strategy.py): \").strip()\n",
    "    white_strategy_file = input(\"Enter the AI strategy file for 'O' (e.g., white_strategy.py): \").strip()\n",
    "    black_strategy = load_strategy(black_strategy_file)\n",
    "    white_strategy = load_strategy(white_strategy_file)\n",
    "else:\n",
    "    print(\"Invalid choice. Exiting.\")\n",
    "\n",
    "game = Gomoku(black_strategy=black_strategy, white_strategy=white_strategy)\n",
    "game.play()"
   ]
  },
  {
   "cell_type": "code",
   "execution_count": null,
   "id": "d4da337e",
   "metadata": {
    "id": "d4da337e"
   },
   "outputs": [],
   "source": [
    "from alpha0v1_strategy import AlphaZeroNet"
   ]
  },
  {
   "cell_type": "code",
   "execution_count": 7,
   "id": "c5873910",
   "metadata": {
    "executionInfo": {
     "elapsed": 327,
     "status": "ok",
     "timestamp": 1733701425464,
     "user": {
      "displayName": "Siyi Wu",
      "userId": "06196688456534608936"
     },
     "user_tz": 360
    },
    "id": "c5873910"
   },
   "outputs": [],
   "source": [
    "from alpha0v2_strategy import AlphaZeroNet\n",
    "from alpha0v2_strategy import MCTS"
   ]
  },
  {
   "cell_type": "code",
   "execution_count": 8,
   "id": "r3lQPHih7ez9",
   "metadata": {
    "executionInfo": {
     "elapsed": 118,
     "status": "ok",
     "timestamp": 1733701428317,
     "user": {
      "displayName": "Siyi Wu",
      "userId": "06196688456534608936"
     },
     "user_tz": 360
    },
    "id": "r3lQPHih7ez9"
   },
   "outputs": [],
   "source": [
    "# ------------------------------\n",
    "# Data Generation via Self-Play\n",
    "# ------------------------------\n",
    "def self_play_game(model, board_size, mcts_simulations=5):\n",
    "    \"\"\"Generate training data via self-play\"\"\"\n",
    "    # 检查是否有 GPU 并将模型移动到 GPU\n",
    "    device = torch.device(\"cuda\" if torch.cuda.is_available() else \"cpu\")\n",
    "    model = model.to(device)\n",
    "\n",
    "    board = [['.' for _ in range(board_size)] for _ in range(board_size)]\n",
    "    mcts = MCTS(model, board_size)\n",
    "    current_player = 'X'\n",
    "    mcts_simulations = mcts_simulations\n",
    "    game_data = []  # Store (state, policy, value) for training\n",
    "    winner = None\n",
    "\n",
    "    while True:\n",
    "        # Run MCTS to get the move and actions\n",
    "        move, actions = mcts.run(board, current_player, mcts_simulations)\n",
    "\n",
    "        # Step 1: 提取所有 (action, value_sum) 对\n",
    "        action_values = [(action, node.value_sum) for action, node in actions.items()]\n",
    "\n",
    "        # Step 2: 计算所有 value_sum 的 softmax 概率\n",
    "        values = np.array([value_sum for _, value_sum in action_values])\n",
    "        exp_values = np.exp(values - np.max(values))  # 减去最大值以稳定计算\n",
    "        probabilities = exp_values / np.sum(exp_values)\n",
    "\n",
    "        # Step 3: 生成结果数组\n",
    "        action_probs = [(action, prob) for (action, _), prob in zip(action_values, probabilities)]\n",
    "\n",
    "        # Make the move\n",
    "        board = mcts.make_move(board, move, current_player)\n",
    "\n",
    "        # Store state and policy\n",
    "        state = mcts.board_to_tensor(board, current_player).to(device).squeeze(0).detach().cpu().numpy()\n",
    "        action_probs_np = np.zeros((board_size, board_size))\n",
    "        for (x, y), prob in action_probs:\n",
    "            action_probs_np[x, y] = prob\n",
    "\n",
    "        if mcts.check_winner(board, current_player):\n",
    "            winner = current_player\n",
    "            if winner == 'X':\n",
    "                game_data.append([state, action_probs_np, current_player, 1])\n",
    "            else:\n",
    "                game_data.append([state, action_probs_np, current_player, -1])\n",
    "            break\n",
    "        if not mcts.get_legal_moves(board):\n",
    "            winner = None  # Draw\n",
    "            game_data.append([state, action_probs_np, current_player, 0])\n",
    "            break\n",
    "        current_player = 'O' if current_player == 'X' else 'X'\n",
    "\n",
    "    return game_data"
   ]
  },
  {
   "cell_type": "code",
   "execution_count": 9,
   "id": "PLiTUx-Hb8TZ",
   "metadata": {
    "colab": {
     "base_uri": "https://localhost:8080/"
    },
    "executionInfo": {
     "elapsed": 582,
     "status": "ok",
     "timestamp": 1733633246018,
     "user": {
      "displayName": "Siyi Wu",
      "userId": "06196688456534608936"
     },
     "user_tz": 360
    },
    "id": "PLiTUx-Hb8TZ",
    "outputId": "3129d903-e03d-4633-9927-78322533bb8e"
   },
   "outputs": [
    {
     "ename": "ValueError",
     "evalue": "not enough values to unpack (expected 3, got 1)",
     "output_type": "error",
     "traceback": [
      "\u001b[0;31m---------------------------------------------------------------------------\u001b[0m",
      "\u001b[0;31mValueError\u001b[0m                                Traceback (most recent call last)",
      "Input \u001b[0;32mIn [9]\u001b[0m, in \u001b[0;36m<cell line: 5>\u001b[0;34m()\u001b[0m\n\u001b[1;32m      2\u001b[0m model \u001b[38;5;241m=\u001b[39m AlphaZeroNet(board_size)\n\u001b[1;32m      3\u001b[0m mcts_simulations \u001b[38;5;241m=\u001b[39m \u001b[38;5;241m5\u001b[39m\n\u001b[0;32m----> 5\u001b[0m move, actions, action_probs \u001b[38;5;241m=\u001b[39m self_play_game(model, board_size, mcts_simulations)\n",
      "\u001b[0;31mValueError\u001b[0m: not enough values to unpack (expected 3, got 1)"
     ]
    }
   ],
   "source": [
    "board_size = 8\n",
    "model = AlphaZeroNet(board_size)\n",
    "mcts_simulations = 5\n",
    "\n",
    "move, actions, action_probs = self_play_game(model, board_size, mcts_simulations)"
   ]
  },
  {
   "cell_type": "code",
   "execution_count": 10,
   "id": "qi-k2QvkfIsv",
   "metadata": {
    "colab": {
     "base_uri": "https://localhost:8080/"
    },
    "executionInfo": {
     "elapsed": 106,
     "status": "ok",
     "timestamp": 1733614684667,
     "user": {
      "displayName": "Siyi Wu",
      "userId": "06196688456534608936"
     },
     "user_tz": 360
    },
    "id": "qi-k2QvkfIsv",
    "outputId": "a9010201-2a2d-4fc0-dcbd-47b1f849db96"
   },
   "outputs": [
    {
     "ename": "NameError",
     "evalue": "name 'actions' is not defined",
     "output_type": "error",
     "traceback": [
      "\u001b[0;31m---------------------------------------------------------------------------\u001b[0m",
      "\u001b[0;31mNameError\u001b[0m                                 Traceback (most recent call last)",
      "Input \u001b[0;32mIn [10]\u001b[0m, in \u001b[0;36m<cell line: 15>\u001b[0;34m()\u001b[0m\n\u001b[1;32m     11\u001b[0m     result \u001b[38;5;241m=\u001b[39m [(action, prob) \u001b[38;5;28;01mfor\u001b[39;00m (action, _), prob \u001b[38;5;129;01min\u001b[39;00m \u001b[38;5;28mzip\u001b[39m(action_values, probabilities)]\n\u001b[1;32m     12\u001b[0m     \u001b[38;5;28;01mreturn\u001b[39;00m result\n\u001b[0;32m---> 15\u001b[0m softmax_probabilities \u001b[38;5;241m=\u001b[39m compute_softmax_probabilities(\u001b[43mactions\u001b[49m)\n\u001b[1;32m     16\u001b[0m \u001b[38;5;28mprint\u001b[39m(softmax_probabilities)\n",
      "\u001b[0;31mNameError\u001b[0m: name 'actions' is not defined"
     ]
    }
   ],
   "source": [
    "def compute_softmax_probabilities(children):\n",
    "    # Step 1: 提取所有 (action, value_sum) 对\n",
    "    action_values = [(action, node.value_sum) for action, node in children.items()]\n",
    "\n",
    "    # Step 2: 计算所有 value_sum 的 softmax 概率\n",
    "    values = np.array([value_sum for _, value_sum in action_values])\n",
    "    exp_values = np.exp(values - np.max(values))\n",
    "    probabilities = exp_values / np.sum(exp_values)\n",
    "\n",
    "    # Step 3: 生成结果数组\n",
    "    result = [(action, prob) for (action, _), prob in zip(action_values, probabilities)]\n",
    "    return result\n",
    "\n",
    "\n",
    "softmax_probabilities = compute_softmax_probabilities(actions)\n",
    "print(softmax_probabilities)\n"
   ]
  },
  {
   "cell_type": "code",
   "execution_count": null,
   "id": "auFqU35BdopS",
   "metadata": {
    "colab": {
     "base_uri": "https://localhost:8080/"
    },
    "executionInfo": {
     "elapsed": 248,
     "status": "ok",
     "timestamp": 1733614362036,
     "user": {
      "displayName": "Siyi Wu",
      "userId": "06196688456534608936"
     },
     "user_tz": 360
    },
    "id": "auFqU35BdopS",
    "outputId": "f7ee928d-bb9d-4b90-d4ca-81e137ba51c0"
   },
   "outputs": [
    {
     "name": "stdout",
     "output_type": "stream",
     "text": [
      "64\n",
      "64\n"
     ]
    }
   ],
   "source": [
    "print(len(actions.items()))\n",
    "print(len(action_probs))"
   ]
  },
  {
   "cell_type": "code",
   "execution_count": null,
   "id": "xb-WUJHYeXIr",
   "metadata": {
    "colab": {
     "base_uri": "https://localhost:8080/"
    },
    "executionInfo": {
     "elapsed": 98,
     "status": "ok",
     "timestamp": 1733614711304,
     "user": {
      "displayName": "Siyi Wu",
      "userId": "06196688456534608936"
     },
     "user_tz": 360
    },
    "id": "xb-WUJHYeXIr",
    "outputId": "14de9c4f-f5b8-4328-80c0-4de07129c6fd"
   },
   "outputs": [
    {
     "data": {
      "text/plain": [
       "True"
      ]
     },
     "execution_count": 44,
     "metadata": {},
     "output_type": "execute_result"
    }
   ],
   "source": [
    "actions[(0,0)].value_sum == actions[(0,1)].value_sum"
   ]
  },
  {
   "cell_type": "code",
   "execution_count": null,
   "id": "1v4ovYjBcRuA",
   "metadata": {
    "colab": {
     "base_uri": "https://localhost:8080/"
    },
    "executionInfo": {
     "elapsed": 88,
     "status": "ok",
     "timestamp": 1733614250558,
     "user": {
      "displayName": "Siyi Wu",
      "userId": "06196688456534608936"
     },
     "user_tz": 360
    },
    "id": "1v4ovYjBcRuA",
    "outputId": "d6e684dc-fdd3-41ad-8f7c-73926d288aff"
   },
   "outputs": [
    {
     "name": "stdout",
     "output_type": "stream",
     "text": [
      "-0.007300570780010151\n",
      "-0.0206227395683527\n"
     ]
    }
   ],
   "source": [
    "for i in actions.items():\n",
    "    print(i[1].value())\n",
    "    print(i[1].value_sum)\n",
    "    break"
   ]
  },
  {
   "cell_type": "code",
   "execution_count": 11,
   "id": "d531a64b",
   "metadata": {
    "executionInfo": {
     "elapsed": 148,
     "status": "ok",
     "timestamp": 1733701435807,
     "user": {
      "displayName": "Siyi Wu",
      "userId": "06196688456534608936"
     },
     "user_tz": 360
    },
    "id": "d531a64b"
   },
   "outputs": [],
   "source": [
    "def train_alphazero(model, board_size, iterations=100, games_per_iteration=10, \n",
    "                    batch_size=32, mcts_simulations=100, alpha=0.5, l2_lambda=1e-4, entropy_alpha=1e-3):\n",
    "    \"\"\"Train AlphaZero model\"\"\"\n",
    "    device = torch.device(\"cuda\" if torch.cuda.is_available() else \"cpu\")\n",
    "    print(f\"Using device: {device}\")\n",
    "\n",
    "    # Move model to GPU if available\n",
    "    model = model.to(device)\n",
    "    optimizer = torch.optim.Adam(model.parameters(), lr=0.001)\n",
    "    replay_buffer = deque(maxlen=10000)  # Replay buffer to store training data\n",
    "    loss_fn_policy = nn.CrossEntropyLoss()\n",
    "    loss_fn_value = nn.MSELoss()\n",
    "\n",
    "    policy_loss_list = []\n",
    "    value_loss_list = []\n",
    "\n",
    "    for iteration in range(iterations):\n",
    "\n",
    "        # Generate self-play data\n",
    "        for _ in range(games_per_iteration):\n",
    "            game_data = self_play_game(model, board_size, mcts_simulations)\n",
    "            replay_buffer.extend(game_data)\n",
    "\n",
    "        # Sample a batch from replay buffer\n",
    "        if len(replay_buffer) < batch_size:\n",
    "            continue\n",
    "\n",
    "        batch = random.sample(replay_buffer, batch_size)\n",
    "        states, policies, _, values = zip(*batch)\n",
    "\n",
    "        # Move data to GPU\n",
    "        states = torch.tensor(np.stack(states), dtype=torch.float32).to(device)\n",
    "        policies = torch.tensor(np.stack(policies), dtype=torch.float32).view(batch_size, board_size * board_size).to(device)\n",
    "        values = torch.tensor(values, dtype=torch.float32).view(-1, 1).to(device)\n",
    "\n",
    "        # Forward pass\n",
    "        pred_policies, pred_values = model(states)\n",
    "\n",
    "        # Compute losses\n",
    "        policy_loss = loss_fn_policy(pred_policies, policies)\n",
    "        value_loss = loss_fn_value(pred_values, values)\n",
    "\n",
    "        l2_reg = sum(param.pow(2).sum() for param in model.parameters())\n",
    "        entropy = -torch.sum(pred_policies * torch.log(pred_policies + 1e-8), dim=1).mean()\n",
    "\n",
    "        loss = (policy_loss * alpha + value_loss * (1 - alpha)\n",
    "                + l2_lambda * l2_reg\n",
    "                - entropy_alpha * entropy)\n",
    "\n",
    "        # Backward pass and optimization\n",
    "        optimizer.zero_grad()\n",
    "        loss.backward()\n",
    "        optimizer.step()\n",
    "\n",
    "        policy_loss_list.append(policy_loss.item())\n",
    "        value_loss_list.append(value_loss.item())\n",
    "\n",
    "        print(f\"Iteration {iteration + 1}/{iterations}\")\n",
    "        print(f\"Policy Loss: {policy_loss.item():.4f}, Value Loss: {value_loss.item():.4f}\")\n",
    "\n",
    "    # Save model weights\n",
    "    torch.save(model.state_dict(), \"alphazero_weights.pth\")\n",
    "    print(\"Training complete. Weights saved to 'alphazero_weights.pth'.\")\n",
    "\n",
    "    return policy_loss_list, value_loss_list"
   ]
  },
  {
   "cell_type": "code",
   "execution_count": 15,
   "id": "Y0ZrFDw7iblB",
   "metadata": {
    "colab": {
     "base_uri": "https://localhost:8080/"
    },
    "executionInfo": {
     "elapsed": 628229,
     "status": "ok",
     "timestamp": 1733702079186,
     "user": {
      "displayName": "Siyi Wu",
      "userId": "06196688456534608936"
     },
     "user_tz": 360
    },
    "id": "Y0ZrFDw7iblB",
    "outputId": "9da28a17-622b-4058-8bff-9520f6c32ad1"
   },
   "outputs": [
    {
     "name": "stdout",
     "output_type": "stream",
     "text": [
      "Iteration 4/100\n",
      "Policy Loss: 4.1589, Value Loss: 1.3386\n",
      "Iteration 5/100\n",
      "Policy Loss: 4.1588, Value Loss: 1.2392\n",
      "Iteration 6/100\n",
      "Policy Loss: 4.1586, Value Loss: 1.1927\n",
      "Iteration 7/100\n",
      "Policy Loss: 4.1585, Value Loss: 1.1652\n",
      "Iteration 8/100\n",
      "Policy Loss: 4.1583, Value Loss: 1.1005\n",
      "Iteration 9/100\n",
      "Policy Loss: 4.1581, Value Loss: 1.0200\n",
      "Iteration 10/100\n",
      "Policy Loss: 4.1579, Value Loss: 0.9581\n",
      "Iteration 11/100\n",
      "Policy Loss: 4.1576, Value Loss: 0.8681\n",
      "Iteration 12/100\n",
      "Policy Loss: 4.1573, Value Loss: 0.7639\n",
      "Iteration 13/100\n",
      "Policy Loss: 4.1569, Value Loss: 0.6519\n",
      "Iteration 14/100\n",
      "Policy Loss: 4.1563, Value Loss: 0.5278\n",
      "Iteration 15/100\n",
      "Policy Loss: 4.1556, Value Loss: 0.3906\n",
      "Iteration 16/100\n",
      "Policy Loss: 4.1548, Value Loss: 0.3747\n",
      "Iteration 17/100\n",
      "Policy Loss: 4.1538, Value Loss: 0.4382\n",
      "Iteration 18/100\n",
      "Policy Loss: 4.1521, Value Loss: 0.1298\n",
      "Iteration 19/100\n",
      "Policy Loss: 4.1508, Value Loss: 0.3626\n",
      "Iteration 20/100\n",
      "Policy Loss: 4.1488, Value Loss: 0.3295\n",
      "Iteration 21/100\n",
      "Policy Loss: 4.1471, Value Loss: 0.0267\n",
      "Iteration 22/100\n",
      "Policy Loss: 4.1465, Value Loss: 0.1982\n",
      "Iteration 23/100\n",
      "Policy Loss: 4.1447, Value Loss: 0.1787\n",
      "Iteration 24/100\n",
      "Policy Loss: 4.1432, Value Loss: 0.1772\n",
      "Iteration 25/100\n",
      "Policy Loss: 4.1420, Value Loss: 0.1664\n",
      "Iteration 26/100\n",
      "Policy Loss: 4.1405, Value Loss: 0.1533\n",
      "Iteration 27/100\n",
      "Policy Loss: 4.1412, Value Loss: 0.0057\n",
      "Iteration 28/100\n",
      "Policy Loss: 4.1345, Value Loss: 0.2086\n",
      "Iteration 29/100\n",
      "Policy Loss: 4.1437, Value Loss: 0.0111\n",
      "Iteration 30/100\n",
      "Policy Loss: 4.1404, Value Loss: 0.0094\n",
      "Iteration 31/100\n",
      "Policy Loss: 4.1409, Value Loss: 0.0053\n",
      "Iteration 32/100\n",
      "Policy Loss: 4.1392, Value Loss: 0.0079\n",
      "Iteration 33/100\n",
      "Policy Loss: 4.1401, Value Loss: 0.0050\n",
      "Iteration 34/100\n",
      "Policy Loss: 4.1374, Value Loss: 0.0141\n",
      "Iteration 35/100\n",
      "Policy Loss: 4.1378, Value Loss: 0.0144\n",
      "Iteration 36/100\n",
      "Policy Loss: 4.1362, Value Loss: 0.0062\n",
      "Iteration 37/100\n",
      "Policy Loss: 4.1340, Value Loss: 0.0076\n",
      "Iteration 38/100\n",
      "Policy Loss: 4.1387, Value Loss: 0.0014\n",
      "Iteration 39/100\n",
      "Policy Loss: 4.1359, Value Loss: 0.0012\n",
      "Iteration 40/100\n",
      "Policy Loss: 4.1313, Value Loss: 0.0029\n",
      "Iteration 41/100\n",
      "Policy Loss: 4.1372, Value Loss: 0.0006\n",
      "Iteration 42/100\n",
      "Policy Loss: 4.1269, Value Loss: 0.0014\n",
      "Iteration 43/100\n",
      "Policy Loss: 4.1156, Value Loss: 0.0004\n",
      "Iteration 44/100\n",
      "Policy Loss: 4.1007, Value Loss: 0.2258\n",
      "Iteration 45/100\n",
      "Policy Loss: 4.1016, Value Loss: 0.2260\n",
      "Iteration 46/100\n",
      "Policy Loss: 4.1342, Value Loss: 0.2254\n",
      "Iteration 47/100\n",
      "Policy Loss: 4.0813, Value Loss: 0.4522\n",
      "Iteration 48/100\n",
      "Policy Loss: 4.1472, Value Loss: 0.2181\n",
      "Iteration 49/100\n",
      "Policy Loss: 4.1461, Value Loss: 0.0002\n",
      "Iteration 50/100\n",
      "Policy Loss: 4.0872, Value Loss: 0.2138\n",
      "Iteration 51/100\n",
      "Policy Loss: 4.1477, Value Loss: 0.2019\n",
      "Iteration 52/100\n",
      "Policy Loss: 4.1524, Value Loss: 0.1811\n",
      "Iteration 53/100\n",
      "Policy Loss: 4.0812, Value Loss: 0.0030\n",
      "Iteration 54/100\n",
      "Policy Loss: 4.1473, Value Loss: 0.0020\n",
      "Iteration 55/100\n",
      "Policy Loss: 4.0759, Value Loss: 0.1257\n",
      "Iteration 56/100\n",
      "Policy Loss: 4.0857, Value Loss: 0.0095\n",
      "Iteration 57/100\n",
      "Policy Loss: 4.0170, Value Loss: 0.2267\n",
      "Iteration 58/100\n",
      "Policy Loss: 4.0219, Value Loss: 0.0203\n",
      "Iteration 59/100\n",
      "Policy Loss: 4.1477, Value Loss: 0.1339\n",
      "Iteration 60/100\n",
      "Policy Loss: 4.1493, Value Loss: 0.1112\n",
      "Iteration 61/100\n",
      "Policy Loss: 4.1331, Value Loss: 0.1314\n",
      "Iteration 62/100\n",
      "Policy Loss: 4.0795, Value Loss: 0.0983\n",
      "Iteration 63/100\n",
      "Policy Loss: 4.1397, Value Loss: 0.0357\n",
      "Iteration 64/100\n",
      "Policy Loss: 4.0881, Value Loss: 0.0481\n",
      "Iteration 65/100\n",
      "Policy Loss: 4.1440, Value Loss: 0.0372\n",
      "Iteration 66/100\n",
      "Policy Loss: 4.1339, Value Loss: 0.0245\n",
      "Iteration 67/100\n",
      "Policy Loss: 4.1422, Value Loss: 0.0147\n",
      "Iteration 68/100\n",
      "Policy Loss: 4.1499, Value Loss: 0.0130\n",
      "Iteration 69/100\n",
      "Policy Loss: 4.0857, Value Loss: 0.0091\n",
      "Iteration 70/100\n",
      "Policy Loss: 4.1497, Value Loss: 0.0057\n",
      "Iteration 71/100\n",
      "Policy Loss: 4.1439, Value Loss: 0.0271\n",
      "Iteration 72/100\n",
      "Policy Loss: 4.1412, Value Loss: 0.0037\n",
      "Iteration 73/100\n",
      "Policy Loss: 4.1385, Value Loss: 0.0050\n",
      "Iteration 74/100\n",
      "Policy Loss: 4.1330, Value Loss: 0.0033\n",
      "Iteration 75/100\n",
      "Policy Loss: 4.1411, Value Loss: 0.0033\n",
      "Iteration 76/100\n",
      "Policy Loss: 4.0833, Value Loss: 0.0013\n",
      "Iteration 77/100\n",
      "Policy Loss: 4.1463, Value Loss: 0.0010\n",
      "Iteration 78/100\n",
      "Policy Loss: 4.0905, Value Loss: 0.0007\n",
      "Iteration 79/100\n",
      "Policy Loss: 4.1508, Value Loss: 0.0049\n",
      "Iteration 80/100\n",
      "Policy Loss: 4.1371, Value Loss: 0.0009\n",
      "Iteration 81/100\n",
      "Policy Loss: 4.1467, Value Loss: 0.0005\n",
      "Iteration 82/100\n",
      "Policy Loss: 4.0831, Value Loss: 0.0003\n",
      "Iteration 83/100\n",
      "Policy Loss: 4.0914, Value Loss: 0.0025\n",
      "Iteration 84/100\n",
      "Policy Loss: 4.1485, Value Loss: 0.0011\n",
      "Iteration 85/100\n",
      "Policy Loss: 4.0889, Value Loss: 0.0002\n",
      "Iteration 86/100\n",
      "Policy Loss: 4.1421, Value Loss: 0.0006\n",
      "Iteration 87/100\n",
      "Policy Loss: 4.1563, Value Loss: 0.0004\n",
      "Iteration 88/100\n",
      "Policy Loss: 4.0336, Value Loss: 0.0002\n",
      "Iteration 89/100\n",
      "Policy Loss: 4.1421, Value Loss: 0.0005\n",
      "Iteration 90/100\n",
      "Policy Loss: 4.1493, Value Loss: 0.0004\n",
      "Iteration 91/100\n",
      "Policy Loss: 4.0284, Value Loss: 0.0000\n",
      "Iteration 92/100\n",
      "Policy Loss: 4.1526, Value Loss: 0.0001\n",
      "Iteration 93/100\n",
      "Policy Loss: 4.1334, Value Loss: 0.0001\n",
      "Iteration 94/100\n",
      "Policy Loss: 4.0713, Value Loss: 0.0001\n",
      "Iteration 95/100\n",
      "Policy Loss: 4.0899, Value Loss: 0.0001\n",
      "Iteration 96/100\n",
      "Policy Loss: 4.0892, Value Loss: 0.0005\n",
      "Iteration 97/100\n",
      "Policy Loss: 4.1468, Value Loss: 0.0008\n",
      "Iteration 98/100\n",
      "Policy Loss: 4.1596, Value Loss: 0.0005\n",
      "Iteration 99/100\n",
      "Policy Loss: 4.1501, Value Loss: 0.0002\n",
      "Iteration 100/100\n",
      "Policy Loss: 4.1514, Value Loss: 0.0000\n",
      "Training complete. Weights saved to 'alphazero_weights.pth'.\n"
     ]
    }
   ],
   "source": [
    "board_size = 8\n",
    "model = AlphaZeroNet(board_size)\n",
    "\n",
    "\n",
    "\n",
    "policy_loss, value_loss = train_alphazero(\n",
    "                        model=model,\n",
    "                        board_size=board_size,\n",
    "                        iterations=100,\n",
    "                        games_per_iteration=5,\n",
    "                        batch_size=16,\n",
    "                        mcts_simulations=20,\n",
    "                        alpha=0.9\n",
    "                    )"
   ]
  },
  {
   "cell_type": "code",
   "execution_count": 16,
   "id": "ZtmW2gphjeIo",
   "metadata": {
    "colab": {
     "base_uri": "https://localhost:8080/",
     "height": 430
    },
    "executionInfo": {
     "elapsed": 504,
     "status": "ok",
     "timestamp": 1733702084740,
     "user": {
      "displayName": "Siyi Wu",
      "userId": "06196688456534608936"
     },
     "user_tz": 360
    },
    "id": "ZtmW2gphjeIo",
    "outputId": "52935804-3cce-464b-b080-49b6be7aaf1c"
   },
   "outputs": [
    {
     "data": {
      "image/png": "[encoded data removed]",
      "text/plain": [
       "<Figure size 432x288 with 1 Axes>"
      ]
     },
     "metadata": {
      "needs_background": "light"
     },
     "output_type": "display_data"
    }
   ],
   "source": [
    "import matplotlib.pyplot as plt\n",
    "\n",
    "plt.plot(policy_loss)\n",
    "plt.show()"
   ]
  },
  {
   "cell_type": "code",
   "execution_count": 17,
   "id": "EB1BlQub7NjO",
   "metadata": {
    "colab": {
     "base_uri": "https://localhost:8080/",
     "height": 430
    },
    "executionInfo": {
     "elapsed": 281,
     "status": "ok",
     "timestamp": 1733702094092,
     "user": {
      "displayName": "Siyi Wu",
      "userId": "06196688456534608936"
     },
     "user_tz": 360
    },
    "id": "EB1BlQub7NjO",
    "outputId": "c471d77f-08f0-4b29-b46b-fd0fbd0fc9c6"
   },
   "outputs": [
    {
     "data": {
      "image/png": "[encoded data removed]",
      "text/plain": [
       "<Figure size 432x288 with 1 Axes>"
      ]
     },
     "metadata": {
      "needs_background": "light"
     },
     "output_type": "display_data"
    }
   ],
   "source": [
    "plt.plot(value_loss)\n",
    "plt.show()"
   ]
  },
  {
   "cell_type": "code",
   "execution_count": null,
   "id": "qkRUTTmdsouH",
   "metadata": {
    "id": "qkRUTTmdsouH"
   },
   "outputs": [],
   "source": []
  }
 ],
 "metadata": {
  "colab": {
   "provenance": []
  },
  "kernelspec": {
   "display_name": "Python 3 (ipykernel)",
   "language": "python",
   "name": "python3"
  },
  "language_info": {
   "codemirror_mode": {
    "name": "ipython",
    "version": 3
   },
   "file_extension": ".py",
   "mimetype": "text/x-python",
   "name": "python",
   "nbconvert_exporter": "python",
   "pygments_lexer": "ipython3",
   "version": "3.9.16"
  }
 },
 "nbformat": 4,
 "nbformat_minor": 5
}
