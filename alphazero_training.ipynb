{
 "cells": [
  {
   "cell_type": "code",
   "execution_count": 1,
   "id": "jfTPpJsvdjZx",
   "metadata": {
    "colab": {
     "base_uri": "https://localhost:8080/"
    },
    "executionInfo": {
     "elapsed": 615,
     "status": "ok",
     "timestamp": 1733701384829,
     "user": {
      "displayName": "Siyi Wu",
      "userId": "06196688456534608936"
     },
     "user_tz": 360
    },
    "id": "jfTPpJsvdjZx",
    "outputId": "5b384f92-0fc8-4c1d-eae9-0eaa4b2d5896"
   },
   "outputs": [
    {
     "name": "stdout",
     "output_type": "stream",
     "text": [
      "Drive already mounted at /content/drive; to attempt to forcibly remount, call drive.mount(\"/content/drive\", force_remount=True).\n"
     ]
    }
   ],
   "source": [
    "from google.colab import drive\n",
    "drive.mount('/content/drive')"
   ]
  },
  {
   "cell_type": "code",
   "execution_count": 1,
   "id": "96P8EsRKeGJT",
   "metadata": {
    "colab": {
     "base_uri": "https://localhost:8080/"
    },
    "executionInfo": {
     "elapsed": 101,
     "status": "ok",
     "timestamp": 1733701385266,
     "user": {
      "displayName": "Siyi Wu",
      "userId": "06196688456534608936"
     },
     "user_tz": 360
    },
    "id": "96P8EsRKeGJT",
    "outputId": "2aa9f03e-cec8-4dab-e260-ecea06b460a3"
   },
   "outputs": [
    {
     "ename": "FileNotFoundError",
     "evalue": "[Errno 2] No such file or directory: '/content/drive/MyDrive/code/WZ'",
     "output_type": "error",
     "traceback": [
      "\u001b[0;31m---------------------------------------------------------------------------\u001b[0m",
      "\u001b[0;31mFileNotFoundError\u001b[0m                         Traceback (most recent call last)",
      "Input \u001b[0;32mIn [1]\u001b[0m, in \u001b[0;36m<cell line: 3>\u001b[0;34m()\u001b[0m\n\u001b[1;32m      1\u001b[0m \u001b[38;5;28;01mimport\u001b[39;00m \u001b[38;5;21;01mos\u001b[39;00m\n\u001b[1;32m      2\u001b[0m path \u001b[38;5;241m=\u001b[39m \u001b[38;5;124m\"\u001b[39m\u001b[38;5;124m/content/drive/MyDrive/code/WZ\u001b[39m\u001b[38;5;124m\"\u001b[39m\n\u001b[0;32m----> 3\u001b[0m \u001b[43mos\u001b[49m\u001b[38;5;241;43m.\u001b[39;49m\u001b[43mchdir\u001b[49m\u001b[43m(\u001b[49m\u001b[43mpath\u001b[49m\u001b[43m)\u001b[49m\n\u001b[1;32m      4\u001b[0m \u001b[38;5;28mprint\u001b[39m(os\u001b[38;5;241m.\u001b[39mgetcwd())\n",
      "\u001b[0;31mFileNotFoundError\u001b[0m: [Errno 2] No such file or directory: '/content/drive/MyDrive/code/WZ'"
     ]
    }
   ],
   "source": [
    "import os\n",
    "path = \"/content/drive/MyDrive/code/WZ\"\n",
    "os.chdir(path)\n",
    "print(os.getcwd())"
   ]
  },
  {
   "cell_type": "code",
   "execution_count": 1,
   "id": "5397fffc",
   "metadata": {
    "executionInfo": {
     "elapsed": 9677,
     "status": "ok",
     "timestamp": 1733701395668,
     "user": {
      "displayName": "Siyi Wu",
      "userId": "06196688456534608936"
     },
     "user_tz": 360
    },
    "id": "5397fffc"
   },
   "outputs": [],
   "source": [
    "import importlib\n",
    "import os\n",
    "import numpy as np\n",
    "import torch\n",
    "import torch.nn as nn\n",
    "import torch.optim as optim\n",
    "import random\n",
    "\n",
    "from collections import deque\n",
    "\n",
    "\n",
    "sizef = 7"
   ]
  },
  {
   "cell_type": "code",
   "execution_count": 2,
   "id": "9a318702",
   "metadata": {
    "id": "9a318702"
   },
   "outputs": [],
   "source": [
    "class Gomoku:\n",
    "    def __init__(self, size=sizef, black_strategy=None, white_strategy=None):\n",
    "        self.size = size  # 棋盘大小\n",
    "        self.board = [['.' for _ in range(size)] for _ in range(size)]  # 初始化棋盘\n",
    "        self.current_player = 'X'  # 当前玩家 ('X' or 'O')\n",
    "        self.black_strategy = black_strategy  # 黑棋策略函数\n",
    "        self.white_strategy = white_strategy  # 白棋策略函数\n",
    "\n",
    "    def display_board(self):\n",
    "        \"\"\"打印棋盘\"\"\"\n",
    "        print(\"   \" + \" \".join(f\"{i:2}\" for i in range(self.size)))\n",
    "        for i, row in enumerate(self.board):\n",
    "            print(f\"{i:2} \" + \" \".join(row))\n",
    "\n",
    "    def is_valid_move(self, x, y):\n",
    "        \"\"\"检查落子是否合法\"\"\"\n",
    "        return 0 <= x < self.size and 0 <= y < self.size and self.board[x][y] == '.'\n",
    "\n",
    "    def make_move(self, x, y):\n",
    "        \"\"\"下棋\"\"\"\n",
    "        if self.is_valid_move(x, y):\n",
    "            self.board[x][y] = self.current_player\n",
    "            return True\n",
    "        else:\n",
    "            print(f\"Invalid move by player {self.current_player} at ({x}, {y}).\")\n",
    "            return False\n",
    "\n",
    "    def check_winner(self, x, y):\n",
    "        \"\"\"检查当前玩家是否获胜\"\"\"\n",
    "        directions = [(1, 0), (0, 1), (1, 1), (1, -1)]  # 四个方向：水平、垂直、正斜线、反斜线\n",
    "        for dx, dy in directions:\n",
    "            count = 1\n",
    "            # 检查正方向\n",
    "            for step in range(1, 5):\n",
    "                nx, ny = x + step * dx, y + step * dy\n",
    "                if 0 <= nx < self.size and 0 <= ny < self.size and self.board[nx][ny] == self.current_player:\n",
    "                    count += 1\n",
    "                else:\n",
    "                    break\n",
    "            # 检查反方向\n",
    "            for step in range(1, 5):\n",
    "                nx, ny = x - step * dx, y - step * dy\n",
    "                if 0 <= nx < self.size and 0 <= ny < self.size and self.board[nx][ny] == self.current_player:\n",
    "                    count += 1\n",
    "                else:\n",
    "                    break\n",
    "            if count >= 5:  # 连续五子\n",
    "                return True\n",
    "        return False\n",
    "\n",
    "    def switch_player(self):\n",
    "        \"\"\"切换玩家\"\"\"\n",
    "        self.current_player = 'O' if self.current_player == 'X' else 'X'\n",
    "\n",
    "    def play(self):\n",
    "        \"\"\"游戏主循环\"\"\"\n",
    "        print(\"Starting Gomoku!\")\n",
    "        self.display_board()\n",
    "\n",
    "        # 检查是否有 GPU 可用\n",
    "        device = torch.device('cuda' if torch.cuda.is_available() else 'cpu')\n",
    "        print(f\"Running on device: {device}\")\n",
    "\n",
    "        while True:\n",
    "            if self.current_player == 'X':\n",
    "                if self.black_strategy:\n",
    "                    # 将策略函数运行在指定设备上\n",
    "                    move = self.black_strategy(self.board, 'X', device=device)\n",
    "                else:\n",
    "                    move = self.get_human_move()\n",
    "            else:\n",
    "                if self.white_strategy:\n",
    "                    # 将策略函数运行在指定设备上\n",
    "                    move = self.white_strategy(self.board, 'O', device=device)\n",
    "                else:\n",
    "                    move = self.get_human_move()\n",
    "\n",
    "            if not move or len(move) != 2:\n",
    "                print(f\"Invalid move returned by player {self.current_player}.\")\n",
    "                break\n",
    "\n",
    "            x, y = move\n",
    "            if self.make_move(x, y):\n",
    "                print(f\"Player {self.current_player} places at ({x}, {y})\")\n",
    "                self.display_board()\n",
    "                if self.check_winner(x, y):\n",
    "                    print(f\"Player {self.current_player} wins!\")\n",
    "                    break\n",
    "                self.switch_player()\n",
    "            else:\n",
    "                print(\"Game Over due to invalid move.\")\n",
    "                break\n",
    "\n",
    "        print(\"Game Over!\")\n",
    "\n",
    "    def get_human_move(self):\n",
    "        \"\"\"获取玩家的落子\"\"\"\n",
    "        while True:\n",
    "            try:\n",
    "                move = input(f\"Player {self.current_player}, enter your move (row col): \").strip()\n",
    "                x, y = map(int, move.split())\n",
    "                if self.is_valid_move(x, y):\n",
    "                    return x, y\n",
    "                else:\n",
    "                    print(\"Invalid move. Try again.\")\n",
    "            except ValueError:\n",
    "                print(\"Invalid input. Please enter row and column numbers separated by a space.\")\n",
    "\n",
    "\n",
    "def load_strategy(file_name):\n",
    "    \"\"\"从本地文件加载策略\"\"\"\n",
    "    if not os.path.exists(file_name):\n",
    "        raise FileNotFoundError(f\"Strategy file {file_name} not found.\")\n",
    "\n",
    "    module_name = os.path.splitext(os.path.basename(file_name))[0]\n",
    "    spec = importlib.util.spec_from_file_location(module_name, file_name)\n",
    "    module = importlib.util.module_from_spec(spec)\n",
    "    spec.loader.exec_module(module)\n",
    "    return module.play  # 假设策略文件中定义了一个 play 函数\n",
    "\n",
    "\n",
    "\n",
    "def print_strategy_files(directory):\n",
    "    try:\n",
    "        for root, dirs, files in os.walk(directory):\n",
    "            for file in files:\n",
    "                if file.endswith(\"strategy.py\"):\n",
    "                    print(file)\n",
    "    except Exception as e:\n",
    "        print(f\"Invaid: {e}\")"
   ]
  },
  {
   "cell_type": "code",
   "execution_count": null,
   "id": "90c801a2",
   "metadata": {
    "id": "90c801a2"
   },
   "outputs": [],
   "source": [
    "print(\"Welcome to Gomoku!\")\n",
    "print(\"Choose game mode:\")\n",
    "print(\"1. Human vs AI\")\n",
    "print(\"2. AI vs AI\")\n",
    "mode = input(\"Enter 1 or 2: \").strip()\n",
    "\n",
    "black_strategy = None\n",
    "white_strategy = None\n",
    "\n",
    "if mode == \"1\":\n",
    "    print(\"You will play as 'X'.\")\n",
    "    print_strategy_files(os.getcwd())\n",
    "    white_strategy_file = input(\"Enter the AI strategy file for 'O' (e.g., white_strategy.py): \").strip()\n",
    "    white_strategy = load_strategy(white_strategy_file)\n",
    "elif mode == \"2\":\n",
    "    print_strategy_files(os.getcwd())\n",
    "    black_strategy_file = input(\"Enter the AI strategy file for 'X' (e.g., black_strategy.py): \").strip()\n",
    "    white_strategy_file = input(\"Enter the AI strategy file for 'O' (e.g., white_strategy.py): \").strip()\n",
    "    black_strategy = load_strategy(black_strategy_file)\n",
    "    white_strategy = load_strategy(white_strategy_file)\n",
    "else:\n",
    "    print(\"Invalid choice. Exiting.\")\n",
    "\n",
    "game = Gomoku(black_strategy=black_strategy, white_strategy=white_strategy)\n",
    "game.play()"
   ]
  },
  {
   "cell_type": "code",
   "execution_count": null,
   "id": "d4da337e",
   "metadata": {
    "id": "d4da337e"
   },
   "outputs": [],
   "source": [
    "from alpha0v1_strategy import AlphaZeroNet"
   ]
  },
  {
   "cell_type": "code",
   "execution_count": 3,
   "id": "c5873910",
   "metadata": {
    "executionInfo": {
     "elapsed": 327,
     "status": "ok",
     "timestamp": 1733701425464,
     "user": {
      "displayName": "Siyi Wu",
      "userId": "06196688456534608936"
     },
     "user_tz": 360
    },
    "id": "c5873910"
   },
   "outputs": [],
   "source": [
    "from alpha0v2_strategy import AlphaZeroNet\n",
    "from alpha0v2_strategy import MCTS"
   ]
  },
  {
   "cell_type": "code",
   "execution_count": 4,
   "id": "r3lQPHih7ez9",
   "metadata": {
    "executionInfo": {
     "elapsed": 118,
     "status": "ok",
     "timestamp": 1733701428317,
     "user": {
      "displayName": "Siyi Wu",
      "userId": "06196688456534608936"
     },
     "user_tz": 360
    },
    "id": "r3lQPHih7ez9"
   },
   "outputs": [],
   "source": [
    "# ------------------------------\n",
    "# Data Generation via Self-Play\n",
    "# ------------------------------\n",
    "def self_play_game(model, board_size, mcts_simulations=5):\n",
    "    \"\"\"Generate training data via self-play\"\"\"\n",
    "    # 检查是否有 GPU 并将模型移动到 GPU\n",
    "    device = torch.device(\"cuda\" if torch.cuda.is_available() else \"cpu\")\n",
    "    model = model.to(device)\n",
    "\n",
    "    board = [['.' for _ in range(board_size)] for _ in range(board_size)]\n",
    "    mcts = MCTS(model, board_size)\n",
    "    current_player = 'X'\n",
    "    mcts_simulations = mcts_simulations\n",
    "    game_data = []  # Store (state, policy, value) for training\n",
    "    winner = None\n",
    "\n",
    "    while True:\n",
    "        # Run MCTS to get the move and actions\n",
    "        move, actions = mcts.run(board, current_player, mcts_simulations)\n",
    "\n",
    "        # Step 1: 提取所有 (action, value_sum) 对\n",
    "        action_values = [(action, node.value_sum) for action, node in actions.items()]\n",
    "\n",
    "        # Step 2: 计算所有 value_sum 的 softmax 概率\n",
    "        values = np.array([value_sum for _, value_sum in action_values])\n",
    "        exp_values = np.exp(values - np.max(values))  # 减去最大值以稳定计算\n",
    "        probabilities = exp_values / np.sum(exp_values)\n",
    "\n",
    "        # Step 3: 生成结果数组\n",
    "        action_probs = [(action, prob) for (action, _), prob in zip(action_values, probabilities)]\n",
    "\n",
    "        # Make the move\n",
    "        board = mcts.make_move(board, move, current_player)\n",
    "\n",
    "        # Store state and policy\n",
    "        state = mcts.board_to_tensor(board, current_player).to(device).squeeze(0).detach().cpu().numpy()\n",
    "        action_probs_np = np.zeros((board_size, board_size))\n",
    "        for (x, y), prob in action_probs:\n",
    "            action_probs_np[x, y] = prob\n",
    "\n",
    "        if mcts.check_winner(board, current_player):\n",
    "            winner = current_player\n",
    "            if winner == 'X':\n",
    "                game_data.append([state, action_probs_np, current_player, 1])\n",
    "            else:\n",
    "                game_data.append([state, action_probs_np, current_player, -1])\n",
    "            break\n",
    "        if not mcts.get_legal_moves(board):\n",
    "            winner = None  # Draw\n",
    "            game_data.append([state, action_probs_np, current_player, 0])\n",
    "            break\n",
    "        current_player = 'O' if current_player == 'X' else 'X'\n",
    "\n",
    "    return game_data"
   ]
  },
  {
   "cell_type": "code",
   "execution_count": 5,
   "id": "qi-k2QvkfIsv",
   "metadata": {
    "colab": {
     "base_uri": "https://localhost:8080/"
    },
    "executionInfo": {
     "elapsed": 106,
     "status": "ok",
     "timestamp": 1733614684667,
     "user": {
      "displayName": "Siyi Wu",
      "userId": "06196688456534608936"
     },
     "user_tz": 360
    },
    "id": "qi-k2QvkfIsv",
    "outputId": "a9010201-2a2d-4fc0-dcbd-47b1f849db96"
   },
   "outputs": [],
   "source": [
    "def compute_softmax_probabilities(children):\n",
    "    # Step 1: 提取所有 (action, value_sum) 对\n",
    "    action_values = [(action, node.value_sum) for action, node in children.items()]\n",
    "\n",
    "    # Step 2: 计算所有 value_sum 的 softmax 概率\n",
    "    values = np.array([value_sum for _, value_sum in action_values])\n",
    "    exp_values = np.exp(values - np.max(values))\n",
    "    probabilities = exp_values / np.sum(exp_values)\n",
    "\n",
    "    # Step 3: 生成结果数组\n",
    "    result = [(action, prob) for (action, _), prob in zip(action_values, probabilities)]\n",
    "    return result\n",
    "\n",
    "\n"
   ]
  },
  {
   "cell_type": "code",
   "execution_count": 6,
   "id": "d531a64b",
   "metadata": {
    "executionInfo": {
     "elapsed": 148,
     "status": "ok",
     "timestamp": 1733701435807,
     "user": {
      "displayName": "Siyi Wu",
      "userId": "06196688456534608936"
     },
     "user_tz": 360
    },
    "id": "d531a64b"
   },
   "outputs": [],
   "source": [
    "def train_alphazero(model, board_size, iterations=100, games_per_iteration=10, \n",
    "                    batch_size=32, mcts_simulations=100, alpha=0.5, l2_lambda=1e-4, entropy_alpha=1e-3):\n",
    "    \"\"\"Train AlphaZero model\"\"\"\n",
    "    device = torch.device(\"cuda\" if torch.cuda.is_available() else \"cpu\")\n",
    "    print(f\"Using device: {device}\")\n",
    "\n",
    "    # Move model to GPU if available\n",
    "    model = model.to(device)\n",
    "    optimizer = torch.optim.Adam(model.parameters(), lr=0.002)\n",
    "    replay_buffer = deque(maxlen=10000)  # Replay buffer to store training data\n",
    "    loss_fn_policy = nn.CrossEntropyLoss()\n",
    "    loss_fn_value = nn.MSELoss()\n",
    "\n",
    "    policy_loss_list = []\n",
    "    value_loss_list = []\n",
    "\n",
    "    for iteration in range(iterations):\n",
    "\n",
    "        # Generate self-play data\n",
    "        for _ in range(games_per_iteration):\n",
    "            game_data = self_play_game(model, board_size, mcts_simulations)\n",
    "            replay_buffer.extend(game_data)\n",
    "\n",
    "        # Sample a batch from replay buffer\n",
    "        if len(replay_buffer) < batch_size:\n",
    "            continue\n",
    "\n",
    "        batch = random.sample(replay_buffer, batch_size)\n",
    "        states, policies, _, values = zip(*batch)\n",
    "\n",
    "        # Move data to GPU\n",
    "        states = torch.tensor(np.stack(states), dtype=torch.float32).to(device)\n",
    "        policies = torch.tensor(np.stack(policies), dtype=torch.float32).view(batch_size, \n",
    "                                                        board_size * board_size).to(device)\n",
    "        values = torch.tensor(values, dtype=torch.float32).view(-1, 1).to(device)\n",
    "\n",
    "        # Forward pass\n",
    "        pred_policies, pred_values = model(states)\n",
    "\n",
    "        # Compute losses\n",
    "        policy_loss = loss_fn_policy(pred_policies, policies)\n",
    "        value_loss = loss_fn_value(pred_values, values)\n",
    "\n",
    "        l2_reg = sum(param.pow(2).sum() for param in model.parameters())\n",
    "        entropy = -torch.sum(pred_policies * torch.log(pred_policies + 1e-8), dim=1).mean()\n",
    "\n",
    "        loss = (policy_loss * alpha + value_loss * (1 - alpha)\n",
    "                + l2_lambda * l2_reg\n",
    "                - entropy_alpha * entropy)\n",
    "\n",
    "        # Backward pass and optimization\n",
    "        optimizer.zero_grad()\n",
    "        loss.backward()\n",
    "        optimizer.step()\n",
    "\n",
    "        policy_loss_list.append(policy_loss.item())\n",
    "        value_loss_list.append(value_loss.item())\n",
    "\n",
    "        print(f\"Iteration {iteration + 1}/{iterations}\")\n",
    "        print(f\"Policy Loss: {policy_loss.item():.4f}, Value Loss: {value_loss.item():.4f}\")\n",
    "\n",
    "    # Save model weights\n",
    "    torch.save(model.state_dict(), \"alphazero_weights.pth\")\n",
    "    print(\"Training complete. Weights saved to 'alphazero_weights.pth'.\")\n",
    "\n",
    "    return policy_loss_list, value_loss_list"
   ]
  },
  {
   "cell_type": "code",
   "execution_count": 7,
   "id": "Y0ZrFDw7iblB",
   "metadata": {
    "colab": {
     "base_uri": "https://localhost:8080/"
    },
    "executionInfo": {
     "elapsed": 628229,
     "status": "ok",
     "timestamp": 1733702079186,
     "user": {
      "displayName": "Siyi Wu",
      "userId": "06196688456534608936"
     },
     "user_tz": 360
    },
    "id": "Y0ZrFDw7iblB",
    "outputId": "9da28a17-622b-4058-8bff-9520f6c32ad1"
   },
   "outputs": [
    {
     "name": "stdout",
     "output_type": "stream",
     "text": [
      "Using device: cpu\n",
      "<U1\n",
      "Board content:\n",
      "[['.' '.' '.' '.' '.' '.' '.']\n",
      " ['.' '.' '.' '.' '.' '.' '.']\n",
      " ['.' '.' '.' '.' '.' '.' '.']\n",
      " ['.' '.' '.' '.' '.' '.' '.']\n",
      " ['.' '.' '.' '.' '.' '.' '.']\n",
      " ['.' '.' '.' '.' '.' '.' '.']\n",
      " ['.' '.' '.' '.' '.' '.' '.']]\n",
      "<U1\n",
      "Board content:\n",
      "[['.' '.' '.' '.' '.' '.' '.']\n",
      " ['.' '.' '.' '.' '.' '.' '.']\n",
      " ['.' '.' '.' '.' '.' '.' '.']\n",
      " ['.' '.' '.' '.' '.' '.' '.']\n",
      " ['.' '.' '.' '.' '.' '.' '.']\n",
      " ['.' '.' '.' '.' '.' '.' '.']\n",
      " ['.' '.' '.' '.' '.' '.' '.']]\n",
      "<U1\n",
      "Board content:\n",
      "[['.' '.' '.' '.' '.' '.' '.']\n",
      " ['.' '.' '.' '.' '.' '.' '.']\n",
      " ['.' '.' '.' '.' '.' '.' '.']\n",
      " ['.' '.' '.' '.' '.' '.' '.']\n",
      " ['.' '.' '.' '.' '.' '.' '.']\n",
      " ['.' '.' '.' '.' '.' '.' '.']\n",
      " ['.' '.' '.' '.' '.' '.' '.']]\n",
      "<U1\n",
      "Board content:\n",
      "[['.' '.' '.' '.' '.' '.' '.']\n",
      " ['.' '.' '.' '.' '.' '.' '.']\n",
      " ['.' '.' '.' '.' '.' '.' '.']\n",
      " ['.' '.' '.' '.' '.' '.' '.']\n",
      " ['.' '.' '.' '.' '.' '.' '.']\n",
      " ['.' '.' '.' '.' '.' '.' '.']\n",
      " ['.' '.' '.' '.' '.' '.' '.']]\n",
      "<U1\n",
      "Board content:\n",
      "[['.' '.' '.' '.' '.' '.' '.']\n",
      " ['.' '.' '.' '.' '.' '.' '.']\n",
      " ['.' '.' '.' '.' '.' '.' '.']\n",
      " ['.' '.' '.' '.' '.' '.' '.']\n",
      " ['.' '.' '.' '.' '.' '.' '.']\n",
      " ['.' '.' '.' '.' '.' '.' '.']\n",
      " ['.' '.' '.' '.' '.' '.' '.']]\n",
      "<U1\n",
      "Board content:\n",
      "[['.' '.' '.' '.' '.' '.' '.']\n",
      " ['.' '.' '.' '.' '.' '.' '.']\n",
      " ['.' '.' '.' '.' '.' '.' '.']\n",
      " ['.' '.' '.' '.' '.' '.' '.']\n",
      " ['.' '.' '.' '.' '.' '.' '.']\n",
      " ['.' '.' '.' '.' '.' '.' '.']\n",
      " ['.' '.' '.' '.' '.' '.' '.']]\n",
      "<U1\n",
      "Board content:\n",
      "[['.' '.' '.' '.' '.' '.' '.']\n",
      " ['.' '.' '.' '.' '.' '.' '.']\n",
      " ['.' '.' '.' '.' '.' '.' '.']\n",
      " ['.' '.' '.' '.' '.' '.' '.']\n",
      " ['.' '.' '.' '.' '.' '.' '.']\n",
      " ['.' '.' '.' '.' '.' '.' '.']\n",
      " ['.' '.' '.' '.' '.' '.' '.']]\n",
      "<U1\n",
      "Board content:\n",
      "[['.' '.' '.' '.' '.' '.' '.']\n",
      " ['.' '.' '.' '.' '.' '.' '.']\n",
      " ['.' '.' '.' '.' '.' '.' '.']\n",
      " ['.' '.' '.' '.' '.' '.' '.']\n",
      " ['.' '.' '.' '.' '.' '.' '.']\n",
      " ['.' '.' '.' '.' '.' '.' '.']\n",
      " ['.' '.' '.' '.' '.' '.' '.']]\n",
      "<U1\n",
      "Board content:\n",
      "[['.' '.' '.' '.' '.' '.' '.']\n",
      " ['.' '.' '.' '.' '.' '.' '.']\n",
      " ['.' '.' '.' '.' '.' '.' '.']\n",
      " ['.' '.' '.' '.' '.' '.' '.']\n",
      " ['.' '.' '.' '.' '.' '.' '.']\n",
      " ['.' '.' '.' '.' '.' '.' '.']\n",
      " ['.' '.' '.' '.' '.' '.' '.']]\n",
      "<U1\n",
      "Board content:\n",
      "[['.' '.' '.' '.' '.' '.' '.']\n",
      " ['.' '.' '.' '.' '.' '.' '.']\n",
      " ['.' '.' '.' '.' '.' '.' '.']\n",
      " ['.' '.' '.' '.' '.' '.' '.']\n",
      " ['.' '.' '.' '.' '.' '.' '.']\n",
      " ['.' '.' '.' '.' '.' '.' '.']\n",
      " ['.' '.' '.' '.' '.' '.' '.']]\n",
      "<U1\n",
      "Board content:\n",
      "[['.' '.' '.' '.' '.' '.' '.']\n",
      " ['.' '.' '.' '.' '.' '.' '.']\n",
      " ['.' '.' '.' '.' '.' '.' '.']\n",
      " ['.' '.' '.' '.' '.' '.' '.']\n",
      " ['.' '.' '.' '.' '.' '.' '.']\n",
      " ['.' '.' '.' '.' '.' '.' '.']\n",
      " ['.' '.' '.' '.' '.' '.' '.']]\n",
      "<U1\n",
      "Board content:\n",
      "[['.' '.' '.' '.' '.' '.' '.']\n",
      " ['.' '.' '.' '.' '.' '.' '.']\n",
      " ['.' '.' '.' '.' '.' '.' '.']\n",
      " ['.' '.' '.' '.' '.' '.' '.']\n",
      " ['.' '.' '.' '.' '.' '.' '.']\n",
      " ['.' '.' '.' '.' '.' '.' '.']\n",
      " ['.' '.' '.' '.' '.' '.' '.']]\n",
      "<U1\n",
      "Board content:\n",
      "[['.' '.' '.' '.' '.' '.' '.']\n",
      " ['.' '.' '.' '.' '.' '.' '.']\n",
      " ['.' '.' '.' '.' '.' '.' '.']\n",
      " ['.' '.' '.' '.' '.' '.' '.']\n",
      " ['.' '.' '.' '.' '.' '.' '.']\n",
      " ['.' '.' '.' '.' '.' '.' '.']\n",
      " ['.' '.' '.' '.' '.' '.' '.']]\n",
      "<U1\n",
      "Board content:\n",
      "[['.' '.' '.' '.' '.' '.' '.']\n",
      " ['.' '.' '.' '.' '.' '.' '.']\n",
      " ['.' '.' '.' '.' '.' '.' '.']\n",
      " ['.' '.' '.' '.' '.' '.' '.']\n",
      " ['.' '.' '.' '.' '.' '.' '.']\n",
      " ['.' '.' '.' '.' '.' '.' '.']\n",
      " ['.' '.' '.' '.' '.' '.' '.']]\n",
      "<U1\n",
      "Board content:\n",
      "[['.' '.' '.' '.' '.' '.' '.']\n",
      " ['.' '.' '.' '.' '.' '.' '.']\n",
      " ['.' '.' '.' '.' '.' '.' '.']\n",
      " ['.' '.' '.' '.' '.' '.' '.']\n",
      " ['.' '.' '.' '.' '.' '.' '.']\n",
      " ['.' '.' '.' '.' '.' '.' '.']\n",
      " ['.' '.' '.' '.' '.' '.' '.']]\n",
      "<U1\n",
      "Board content:\n",
      "[['.' '.' '.' '.' '.' '.' '.']\n",
      " ['.' '.' '.' '.' '.' '.' '.']\n",
      " ['.' '.' '.' '.' '.' '.' '.']\n",
      " ['.' '.' '.' '.' '.' '.' '.']\n",
      " ['.' '.' '.' '.' '.' '.' '.']\n",
      " ['.' '.' '.' '.' '.' '.' '.']\n",
      " ['.' '.' '.' '.' '.' '.' '.']]\n",
      "<U1\n",
      "Board content:\n",
      "[['.' '.' '.' '.' '.' '.' '.']\n",
      " ['.' '.' '.' '.' '.' '.' '.']\n",
      " ['.' '.' '.' '.' '.' '.' '.']\n",
      " ['.' '.' '.' '.' '.' '.' '.']\n",
      " ['.' '.' '.' '.' '.' '.' '.']\n",
      " ['.' '.' '.' '.' '.' '.' '.']\n",
      " ['.' '.' '.' '.' '.' '.' '.']]\n",
      "<U1\n",
      "Board content:\n",
      "[['.' '.' '.' '.' '.' '.' '.']\n",
      " ['.' '.' '.' '.' '.' '.' '.']\n",
      " ['.' '.' '.' '.' '.' '.' '.']\n",
      " ['.' '.' '.' '.' '.' '.' '.']\n",
      " ['.' '.' '.' '.' '.' '.' '.']\n",
      " ['.' '.' '.' '.' '.' '.' '.']\n",
      " ['.' '.' '.' '.' '.' '.' '.']]\n",
      "<U1\n",
      "Board content:\n",
      "[['.' '.' '.' '.' '.' '.' '.']\n",
      " ['.' '.' '.' '.' '.' '.' '.']\n",
      " ['.' '.' '.' '.' '.' '.' '.']\n",
      " ['.' '.' '.' '.' '.' '.' '.']\n",
      " ['.' '.' '.' '.' '.' '.' '.']\n",
      " ['.' '.' '.' '.' '.' '.' '.']\n",
      " ['.' '.' '.' '.' '.' '.' '.']]\n"
     ]
    },
    {
     "ename": "AttributeError",
     "evalue": "'list' object has no attribute 'dtype'",
     "output_type": "error",
     "traceback": [
      "\u001b[0;31m---------------------------------------------------------------------------\u001b[0m",
      "\u001b[0;31mAttributeError\u001b[0m                            Traceback (most recent call last)",
      "Input \u001b[0;32mIn [7]\u001b[0m, in \u001b[0;36m<cell line: 6>\u001b[0;34m()\u001b[0m\n\u001b[1;32m      1\u001b[0m board_size \u001b[38;5;241m=\u001b[39m \u001b[38;5;241m7\u001b[39m\n\u001b[1;32m      2\u001b[0m model \u001b[38;5;241m=\u001b[39m AlphaZeroNet(board_size)\n\u001b[0;32m----> 6\u001b[0m policy_loss, value_loss \u001b[38;5;241m=\u001b[39m \u001b[43mtrain_alphazero\u001b[49m\u001b[43m(\u001b[49m\n\u001b[1;32m      7\u001b[0m \u001b[43m                        \u001b[49m\u001b[43mmodel\u001b[49m\u001b[38;5;241;43m=\u001b[39;49m\u001b[43mmodel\u001b[49m\u001b[43m,\u001b[49m\n\u001b[1;32m      8\u001b[0m \u001b[43m                        \u001b[49m\u001b[43mboard_size\u001b[49m\u001b[38;5;241;43m=\u001b[39;49m\u001b[43mboard_size\u001b[49m\u001b[43m,\u001b[49m\n\u001b[1;32m      9\u001b[0m \u001b[43m                        \u001b[49m\u001b[43miterations\u001b[49m\u001b[38;5;241;43m=\u001b[39;49m\u001b[38;5;241;43m2000\u001b[39;49m\u001b[43m,\u001b[49m\n\u001b[1;32m     10\u001b[0m \u001b[43m                        \u001b[49m\u001b[43mgames_per_iteration\u001b[49m\u001b[38;5;241;43m=\u001b[39;49m\u001b[38;5;241;43m5\u001b[39;49m\u001b[43m,\u001b[49m\n\u001b[1;32m     11\u001b[0m \u001b[43m                        \u001b[49m\u001b[43mbatch_size\u001b[49m\u001b[38;5;241;43m=\u001b[39;49m\u001b[38;5;241;43m16\u001b[39;49m\u001b[43m,\u001b[49m\n\u001b[1;32m     12\u001b[0m \u001b[43m                        \u001b[49m\u001b[43mmcts_simulations\u001b[49m\u001b[38;5;241;43m=\u001b[39;49m\u001b[38;5;241;43m20\u001b[39;49m\u001b[43m,\u001b[49m\n\u001b[1;32m     13\u001b[0m \u001b[43m                        \u001b[49m\u001b[43malpha\u001b[49m\u001b[38;5;241;43m=\u001b[39;49m\u001b[38;5;241;43m0.9\u001b[39;49m\n\u001b[1;32m     14\u001b[0m \u001b[43m                    \u001b[49m\u001b[43m)\u001b[49m\n",
      "Input \u001b[0;32mIn [6]\u001b[0m, in \u001b[0;36mtrain_alphazero\u001b[0;34m(model, board_size, iterations, games_per_iteration, batch_size, mcts_simulations, alpha, l2_lambda, entropy_alpha)\u001b[0m\n\u001b[1;32m     17\u001b[0m \u001b[38;5;28;01mfor\u001b[39;00m iteration \u001b[38;5;129;01min\u001b[39;00m \u001b[38;5;28mrange\u001b[39m(iterations):\n\u001b[1;32m     18\u001b[0m \n\u001b[1;32m     19\u001b[0m     \u001b[38;5;66;03m# Generate self-play data\u001b[39;00m\n\u001b[1;32m     20\u001b[0m     \u001b[38;5;28;01mfor\u001b[39;00m _ \u001b[38;5;129;01min\u001b[39;00m \u001b[38;5;28mrange\u001b[39m(games_per_iteration):\n\u001b[0;32m---> 21\u001b[0m         game_data \u001b[38;5;241m=\u001b[39m \u001b[43mself_play_game\u001b[49m\u001b[43m(\u001b[49m\u001b[43mmodel\u001b[49m\u001b[43m,\u001b[49m\u001b[43m \u001b[49m\u001b[43mboard_size\u001b[49m\u001b[43m,\u001b[49m\u001b[43m \u001b[49m\u001b[43mmcts_simulations\u001b[49m\u001b[43m)\u001b[49m\n\u001b[1;32m     22\u001b[0m         replay_buffer\u001b[38;5;241m.\u001b[39mextend(game_data)\n\u001b[1;32m     24\u001b[0m     \u001b[38;5;66;03m# Sample a batch from replay buffer\u001b[39;00m\n",
      "Input \u001b[0;32mIn [4]\u001b[0m, in \u001b[0;36mself_play_game\u001b[0;34m(model, board_size, mcts_simulations)\u001b[0m\n\u001b[1;32m     30\u001b[0m action_probs \u001b[38;5;241m=\u001b[39m [(action, prob) \u001b[38;5;28;01mfor\u001b[39;00m (action, _), prob \u001b[38;5;129;01min\u001b[39;00m \u001b[38;5;28mzip\u001b[39m(action_values, probabilities)]\n\u001b[1;32m     32\u001b[0m \u001b[38;5;66;03m# Make the move\u001b[39;00m\n\u001b[0;32m---> 33\u001b[0m board \u001b[38;5;241m=\u001b[39m \u001b[43mmcts\u001b[49m\u001b[38;5;241;43m.\u001b[39;49m\u001b[43mmake_move\u001b[49m\u001b[43m(\u001b[49m\u001b[43mboard\u001b[49m\u001b[43m,\u001b[49m\u001b[43m \u001b[49m\u001b[43mmove\u001b[49m\u001b[43m,\u001b[49m\u001b[43m \u001b[49m\u001b[43mcurrent_player\u001b[49m\u001b[43m)\u001b[49m\n\u001b[1;32m     35\u001b[0m \u001b[38;5;66;03m# Store state and policy\u001b[39;00m\n\u001b[1;32m     36\u001b[0m state \u001b[38;5;241m=\u001b[39m mcts\u001b[38;5;241m.\u001b[39mboard_to_tensor(board, current_player)\u001b[38;5;241m.\u001b[39mto(device)\u001b[38;5;241m.\u001b[39msqueeze(\u001b[38;5;241m0\u001b[39m)\u001b[38;5;241m.\u001b[39mdetach()\u001b[38;5;241m.\u001b[39mcpu()\u001b[38;5;241m.\u001b[39mnumpy()\n",
      "File \u001b[0;32m~/Desktop/drive-download-20241208T235532Z-001/alpha0v2_strategy.py:169\u001b[0m, in \u001b[0;36mMCTS.make_move\u001b[0;34m(board, move, player)\u001b[0m\n\u001b[1;32m    167\u001b[0m \u001b[38;5;129m@staticmethod\u001b[39m\n\u001b[1;32m    168\u001b[0m \u001b[38;5;28;01mdef\u001b[39;00m \u001b[38;5;21mmake_move\u001b[39m(board, move, player):\n\u001b[0;32m--> 169\u001b[0m     \u001b[38;5;28mprint\u001b[39m(\u001b[43mboard\u001b[49m\u001b[38;5;241;43m.\u001b[39;49m\u001b[43mdtype\u001b[49m)\n\u001b[1;32m    170\u001b[0m     \u001b[38;5;28mprint\u001b[39m(\u001b[38;5;124m\"\u001b[39m\u001b[38;5;124mBoard content:\u001b[39m\u001b[38;5;124m\"\u001b[39m)\n\u001b[1;32m    171\u001b[0m     \u001b[38;5;28mprint\u001b[39m(board)\n",
      "\u001b[0;31mAttributeError\u001b[0m: 'list' object has no attribute 'dtype'"
     ]
    }
   ],
   "source": [
    "board_size = 7\n",
    "model = AlphaZeroNet(board_size)\n",
    "\n",
    "\n",
    "\n",
    "policy_loss, value_loss = train_alphazero(\n",
    "                        model=model,\n",
    "                        board_size=board_size,\n",
    "                        iterations=2000,\n",
    "                        games_per_iteration=5,\n",
    "                        batch_size=16,\n",
    "                        mcts_simulations=20,\n",
    "                        alpha=0.9\n",
    "                    )"
   ]
  },
  {
   "cell_type": "code",
   "execution_count": 9,
   "id": "ZtmW2gphjeIo",
   "metadata": {
    "colab": {
     "base_uri": "https://localhost:8080/",
     "height": 430
    },
    "executionInfo": {
     "elapsed": 504,
     "status": "ok",
     "timestamp": 1733702084740,
     "user": {
      "displayName": "Siyi Wu",
      "userId": "06196688456534608936"
     },
     "user_tz": 360
    },
    "id": "ZtmW2gphjeIo",
    "outputId": "52935804-3cce-464b-b080-49b6be7aaf1c"
   },
   "outputs": [
    {
     "data": {
      "image/png": "[encoded data removed]",
      "text/plain": [
       "<Figure size 432x288 with 1 Axes>"
      ]
     },
     "metadata": {
      "needs_background": "light"
     },
     "output_type": "display_data"
    }
   ],
   "source": [
    "import matplotlib.pyplot as plt\n",
    "\n",
    "plt.plot(policy_loss)\n",
    "plt.show()"
   ]
  },
  {
   "cell_type": "code",
   "execution_count": 10,
   "id": "EB1BlQub7NjO",
   "metadata": {
    "colab": {
     "base_uri": "https://localhost:8080/",
     "height": 430
    },
    "executionInfo": {
     "elapsed": 281,
     "status": "ok",
     "timestamp": 1733702094092,
     "user": {
      "displayName": "Siyi Wu",
      "userId": "06196688456534608936"
     },
     "user_tz": 360
    },
    "id": "EB1BlQub7NjO",
    "outputId": "c471d77f-08f0-4b29-b46b-fd0fbd0fc9c6"
   },
   "outputs": [
    {
     "data": {
      "image/png": "[encoded data removed]",
      "text/plain": [
       "<Figure size 432x288 with 1 Axes>"
      ]
     },
     "metadata": {
      "needs_background": "light"
     },
     "output_type": "display_data"
    }
   ],
   "source": [
    "plt.plot(value_loss)\n",
    "plt.show()"
   ]
  },
  {
   "cell_type": "code",
   "execution_count": null,
   "id": "qkRUTTmdsouH",
   "metadata": {
    "id": "qkRUTTmdsouH"
   },
   "outputs": [],
   "source": []
  }
 ],
 "metadata": {
  "colab": {
   "provenance": []
  },
  "kernelspec": {
   "display_name": "Python 3 (ipykernel)",
   "language": "python",
   "name": "python3"
  },
  "language_info": {
   "codemirror_mode": {
    "name": "ipython",
    "version": 3
   },
   "file_extension": ".py",
   "mimetype": "text/x-python",
   "name": "python",
   "nbconvert_exporter": "python",
   "pygments_lexer": "ipython3",
   "version": "3.9.16"
  }
 },
 "nbformat": 4,
 "nbformat_minor": 5
}
